{
 "cells": [
  {
   "cell_type": "markdown",
   "metadata": {},
   "source": [
    "给你一个由 '1'（陆地）和 '0'（水）组成的的二维网格，请你计算网格中岛屿的数量。\n",
    "岛屿总是被水包围，并且每座岛屿只能由水平方向和/或竖直方向上相邻的陆地连接形成。\n",
    "此外，你可以假设该网格的四条边均被水包围。"
   ]
  },
  {
   "cell_type": "markdown",
   "metadata": {},
   "source": [
    "核心思想依旧是 BFS，如果发现一个陆地，便对其进行 BFS，并将可由 BFS 访问到的点都置为已经访问状态，从而代表同属一个岛屿"
   ]
  },
  {
   "cell_type": "code",
   "execution_count": null,
   "metadata": {},
   "outputs": [],
   "source": [
    "class Solution:\n",
    "    def numIslands(self, grid: List[List[str]]) -> int:\n",
    "        count = 0\n",
    "        for row in range(len(grid)):\n",
    "            for col in range(len(grid[0])):\n",
    "                if grid[row][col] == '1':  # 发现陆地\n",
    "                    count += 1  # 结果加1\n",
    "                    grid[row][col] = '0'  # 将其转为 ‘0’ 代表已经访问过\n",
    "                    # 对发现的陆地进行扩张即执行 BFS，将与其相邻的陆地都标记为已访问\n",
    "                    # 下面还是经典的 BFS 模板\n",
    "                    land_positions = collections.deque()\n",
    "                    land_positions.append([row, col])\n",
    "                    while len(land_positions) > 0:\n",
    "                        x, y = land_positions.popleft()\n",
    "                        for new_x, new_y in [[x, y + 1], [x, y - 1], [x + 1, y], [x - 1, y]]:  # 进行四个方向的扩张\n",
    "                            # 判断有效性\n",
    "                            if 0 <= new_x < len(grid) and 0 <= new_y < len(grid[0]) and grid[new_x][new_y] == '1':\n",
    "                                grid[new_x][new_y] = '0'  # 因为可由 BFS 访问到，代表同属一块岛，将其置 ‘0’ 代表已访问过\n",
    "                                land_positions.append([new_x, new_y])\n",
    "        return count"
   ]
  }
 ],
 "metadata": {
  "kernelspec": {
   "display_name": "Python 3",
   "language": "python",
   "name": "python3"
  },
  "language_info": {
   "codemirror_mode": {
    "name": "ipython",
    "version": 3
   },
   "file_extension": ".py",
   "mimetype": "text/x-python",
   "name": "python",
   "nbconvert_exporter": "python",
   "pygments_lexer": "ipython3",
   "version": "3.8.3"
  }
 },
 "nbformat": 4,
 "nbformat_minor": 4
}
