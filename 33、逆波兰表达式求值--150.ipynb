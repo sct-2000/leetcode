{
 "cells": [
  {
   "cell_type": "markdown",
   "metadata": {},
   "source": [
    "根据 逆波兰表示法，求表达式的值。\n",
    "有效的运算符包括 +, -, *, / 。每个运算对象可以是整数，也可以是另一个逆波兰表达式。\n",
    "\n",
    "说明：\n",
    "整数除法只保留整数部分。\n",
    "给定逆波兰表达式总是有效的。换句话说，表达式总会得出有效数值且不存在除数为 0 的情况。"
   ]
  },
  {
   "cell_type": "markdown",
   "metadata": {},
   "source": [
    "解题思路\n",
    "遇到数字则入栈；\n",
    "遇到算符则取出栈顶两个数字进行计算，并将结果压入栈中。"
   ]
  },
  {
   "cell_type": "code",
   "execution_count": null,
   "metadata": {},
   "outputs": [],
   "source": [
    "class Solution:\n",
    "    def evalRPN(self, tokens):\n",
    "        stack = []\n",
    "        for i in range(len(tokens)):\n",
    "            if tokens[i] == \"+\" or tokens[i] == \"-\" or tokens[i] == \"*\" or tokens[i] == \"/\":\n",
    "                b = stack.pop()\n",
    "                a = stack.pop()\n",
    "                if tokens[i] == \"+\":\n",
    "                    stack.append(a + b)\n",
    "                elif tokens[i] == \"-\":\n",
    "                    stack.append(a - b)\n",
    "                elif tokens[i] == \"*\":\n",
    "                    stack.append(a * b)\n",
    "                else:\n",
    "                    stack.append(int(a / b))    #注意此处，由于python整除是向下取整，所以改用除法，然后用整形去掉小数\n",
    "            else:\n",
    "                stack.append(int(tokens[i]))\n",
    "        return stack.pop()"
   ]
  }
 ],
 "metadata": {
  "kernelspec": {
   "display_name": "Python 3",
   "language": "python",
   "name": "python3"
  },
  "language_info": {
   "codemirror_mode": {
    "name": "ipython",
    "version": 3
   },
   "file_extension": ".py",
   "mimetype": "text/x-python",
   "name": "python",
   "nbconvert_exporter": "python",
   "pygments_lexer": "ipython3",
   "version": "3.8.3"
  }
 },
 "nbformat": 4,
 "nbformat_minor": 4
}
