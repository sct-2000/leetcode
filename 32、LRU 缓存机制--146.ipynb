{
 "cells": [
  {
   "cell_type": "markdown",
   "metadata": {},
   "source": [
    "运用你所掌握的数据结构，设计和实现一个  LRU (最近最少使用) 缓存机制 。\n",
    "实现 LRUCache 类：\n",
    "\n",
    "LRUCache(int capacity) 以正整数作为容量 capacity 初始化 LRU 缓存\n",
    "int get(int key) 如果关键字 key 存在于缓存中，则返回关键字的值，否则返回 -1 。\n",
    "void put(int key, int value) 如果关键字已经存在，则变更其数据值；如果关键字不存在，则插入该组「关键字-值」。\n",
    "当缓存容量达到上限时，它应该在写入新数据之前删除最久未使用的数据值，从而为新的数据值留出空间。"
   ]
  },
  {
   "cell_type": "markdown",
   "metadata": {},
   "source": [
    "看到题目要我们实现一个可以存储 key-value 形式数据的数据结构，并且可以记录最近访问的 key 值。\n",
    "首先想到的就是用字典来存储 key-value 结构，这样对于查找操作时间复杂度就是 O(1)O(1)。\n",
    "但是因为字典本身是无序的，所以我们还需要一个类似于队列的结构来记录访问的先后顺序，这个队列需要支持如下几种操作：\n",
    "在末尾加入一项\n",
    "去除最前端一项\n",
    "将队列中某一项移到末尾"
   ]
  },
  {
   "cell_type": "code",
   "execution_count": null,
   "metadata": {},
   "outputs": [],
   "source": [
    "class ListNode:\n",
    "    def __init__(self, key=None, value=None):\n",
    "        self.key = key\n",
    "        self.value = value\n",
    "        self.prev = None\n",
    "        self.next = None\n",
    "\n",
    "\n",
    "class LRUCache:\n",
    "    def __init__(self, capacity: int):\n",
    "        self.capacity = capacity\n",
    "        self.hashmap = {}\n",
    "        # 新建两个节点 head 和 tail\n",
    "        self.head = ListNode()\n",
    "        self.tail = ListNode()\n",
    "        # 初始化链表为 head <-> tail\n",
    "        self.head.next = self.tail\n",
    "        self.tail.prev = self.head\n",
    "\n",
    "    # 因为get与put操作都可能需要将双向链表中的某个节点移到末尾，所以定义一个方法\n",
    "    def move_node_to_tail(self, key):\n",
    "            # 先将哈希表key指向的节点拎出来，为了简洁起名node\n",
    "            #      hashmap[key]                               hashmap[key]\n",
    "            #           |                                          |\n",
    "            #           V              -->                         V\n",
    "            # prev <-> node <-> next         pre <-> next   ...   node\n",
    "            node = self.hashmap[key]\n",
    "            node.prev.next = node.next\n",
    "            node.next.prev = node.prev\n",
    "            # 之后将node插入到尾节点前\n",
    "            #                 hashmap[key]                 hashmap[key]\n",
    "            #                      |                            |\n",
    "            #                      V        -->                 V\n",
    "            # prev <-> tail  ...  node                prev <-> node <-> tail\n",
    "            node.prev = self.tail.prev\n",
    "            node.next = self.tail\n",
    "            self.tail.prev.next = node\n",
    "            self.tail.prev = node\n",
    "\n",
    "    def get(self, key: int) -> int:\n",
    "        if key in self.hashmap:\n",
    "            # 如果已经在链表中了久把它移到末尾（变成最新访问的）\n",
    "            self.move_node_to_tail(key)\n",
    "        res = self.hashmap.get(key, -1)\n",
    "        if res == -1:\n",
    "            return res\n",
    "        else:\n",
    "            return res.value\n",
    "\n",
    "    def put(self, key: int, value: int) -> None:\n",
    "        if key in self.hashmap:\n",
    "            # 如果key本身已经在哈希表中了就不需要在链表中加入新的节点\n",
    "            # 但是需要更新字典该值对应节点的value\n",
    "            self.hashmap[key].value = value\n",
    "            # 之后将该节点移到末尾\n",
    "            self.move_node_to_tail(key)\n",
    "        else:\n",
    "            if len(self.hashmap) == self.capacity:\n",
    "                # 去掉哈希表对应项\n",
    "                self.hashmap.pop(self.head.next.key)\n",
    "                # 去掉最久没有被访问过的节点，即头节点之后的节点\n",
    "                self.head.next = self.head.next.next\n",
    "                self.head.next.prev = self.head\n",
    "            # 如果不在的话就插入到尾节点前\n",
    "            new = ListNode(key, value)\n",
    "            self.hashmap[key] = new\n",
    "            new.prev = self.tail.prev\n",
    "            new.next = self.tail\n",
    "            self.tail.prev.next = new\n",
    "            self.tail.prev = new"
   ]
  }
 ],
 "metadata": {
  "kernelspec": {
   "display_name": "Python 3",
   "language": "python",
   "name": "python3"
  },
  "language_info": {
   "codemirror_mode": {
    "name": "ipython",
    "version": 3
   },
   "file_extension": ".py",
   "mimetype": "text/x-python",
   "name": "python",
   "nbconvert_exporter": "python",
   "pygments_lexer": "ipython3",
   "version": "3.8.3"
  }
 },
 "nbformat": 4,
 "nbformat_minor": 4
}
