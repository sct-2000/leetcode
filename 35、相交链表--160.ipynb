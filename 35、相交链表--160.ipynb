{
 "cells": [
  {
   "cell_type": "markdown",
   "metadata": {},
   "source": [
    "编写一个程序，找到两个单链表相交的起始节点。\n",
    "如下面的两个链表：。。。。\n",
    "在节点 c1 开始相交。"
   ]
  },
  {
   "cell_type": "markdown",
   "metadata": {},
   "source": [
    "我们通常做这种题的思路是设定两个指针分别指向两个链表头部，一起向前走直到其中一个到达末端，\n",
    "另一个与末端距离则是两链表的 长度差。再通过长链表指针先走的方式消除长度差，最终两链表即可同时走到相交点。\n",
    "换个方式消除长度差： 拼接两链表。\n",
    "设长-短链表为 C，短-长链表为 D （分别代表长链表在前和短链表在前的拼接链表），\n",
    "则当 C 走到长短链表交接处时，D 走在长链表中，且与长链表头距离为 长度差;"
   ]
  },
  {
   "cell_type": "code",
   "execution_count": null,
   "metadata": {},
   "outputs": [],
   "source": [
    "class Solution(object):\n",
    "    def getIntersectionNode(self, headA, headB):\n",
    "        ha, hb = headA, headB\n",
    "        while ha != hb:\n",
    "            ha = ha.next if ha else headB\n",
    "            hb = hb.next if hb else headA\n",
    "        return ha"
   ]
  }
 ],
 "metadata": {
  "kernelspec": {
   "display_name": "Python 3",
   "language": "python",
   "name": "python3"
  },
  "language_info": {
   "codemirror_mode": {
    "name": "ipython",
    "version": 3
   },
   "file_extension": ".py",
   "mimetype": "text/x-python",
   "name": "python",
   "nbconvert_exporter": "python",
   "pygments_lexer": "ipython3",
   "version": "3.8.3"
  }
 },
 "nbformat": 4,
 "nbformat_minor": 4
}
