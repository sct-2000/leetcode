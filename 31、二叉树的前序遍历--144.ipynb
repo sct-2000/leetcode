{
 "cells": [
  {
   "cell_type": "markdown",
   "metadata": {},
   "source": [
    "给你二叉树的根节点 root ，返回它节点值的 前序 遍历。"
   ]
  },
  {
   "cell_type": "code",
   "execution_count": null,
   "metadata": {},
   "outputs": [],
   "source": [
    "# 前序\n",
    "def __init__(self):\n",
    "    self.out = []\n",
    "\n",
    "\n",
    "def preorderTraversal(self, root):\n",
    "    if root is None: return []\n",
    "    self.out.extend([root.val])\n",
    "    self.preorderTraversal(root.left)\n",
    "    self.preorderTraversal(root.right)\n",
    "    return self.out\n",
    "\n",
    "\n",
    "# 中序\n",
    "def __init__(self):\n",
    "    self.out = []\n",
    "\n",
    "\n",
    "def inorderTraversal(self, root):\n",
    "    if root is None: return [] \n",
    "    self.inorderTraversal(root.left)\n",
    "    self.out.extend([root.val])\n",
    "    self.inorderTraversal(root.right)\n",
    "    return self.out\n",
    "\n",
    "\n",
    "# 后序\n",
    "def __init__(self):\n",
    "    self.out = []\n",
    "\n",
    "\n",
    "def postorderTraversal(self, root):\n",
    "    if root is None: return []\n",
    "    self.postorderTraversal(root.left)\n",
    "    self.postorderTraversal(root.right)\n",
    "    self.out.extend([root.val])\n",
    "    return self.out"
   ]
  }
 ],
 "metadata": {
  "kernelspec": {
   "display_name": "Python 3",
   "language": "python",
   "name": "python3"
  },
  "language_info": {
   "codemirror_mode": {
    "name": "ipython",
    "version": 3
   },
   "file_extension": ".py",
   "mimetype": "text/x-python",
   "name": "python",
   "nbconvert_exporter": "python",
   "pygments_lexer": "ipython3",
   "version": "3.8.3"
  }
 },
 "nbformat": 4,
 "nbformat_minor": 4
}
