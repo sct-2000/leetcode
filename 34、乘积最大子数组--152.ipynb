{
 "cells": [
  {
   "cell_type": "markdown",
   "metadata": {},
   "source": [
    "给你一个整数数组 nums ，请你找出数组中乘积最大的连续子数组（该子数组中至少包含一个数字），并返回该子数组所对应的乘积。"
   ]
  },
  {
   "cell_type": "markdown",
   "metadata": {},
   "source": [
    "思路：类似滑动窗口的感觉\n",
    "product(i, j) = product(0, j) / product(0, i) 从数组 i 到 j 的累乘等于 从数组开头到 j 的累乘除以从数组开头到 i 的累乘\n",
    "这里先忽略 0 的情况，要考虑三种情况\n",
    "累乘的乘积等于 0，就要重新开始\n",
    "累乘的乘积小于 0，要找到前面最大的负数，这样才能保住从 i 到 j 最大\n",
    "累乘的乘积大于 0，要找到前面最小的正数，同理！"
   ]
  },
  {
   "cell_type": "code",
   "execution_count": null,
   "metadata": {},
   "outputs": [],
   "source": [
    "class Solution:\n",
    "    def maxProduct(self, nums: List[int]) -> int:\n",
    "        if not nums: return\n",
    "        # 目前的累乘\n",
    "        cur_pro = 1\n",
    "        # 前面最小的正数\n",
    "        min_pos = 1\n",
    "        # 前面最大的负数\n",
    "        max_neg = float(\"-inf\")\n",
    "        # 结果\n",
    "        res = float(\"-inf\")\n",
    "        for num in nums:\n",
    "            cur_pro *= num\n",
    "            # 考虑三种情况\n",
    "            # 大于0\n",
    "            if cur_pro > 0:\n",
    "                res = max(res, cur_pro // min_pos)\n",
    "                min_pos = min(min_pos, cur_pro)\n",
    "            # 小于0\n",
    "            elif cur_pro < 0:\n",
    "                if max_neg != float(\"-inf\"):\n",
    "                    res = max(res, cur_pro // max_neg)\n",
    "                else:\n",
    "                    res = max(res, num)\n",
    "                max_neg = max(max_neg, cur_pro)\n",
    "            # 等于0 \n",
    "            else:\n",
    "                cur_pro = 1\n",
    "                min_pos = 1\n",
    "                max_neg = float(\"-inf\")\n",
    "                res = max(res, num)\n",
    "        return res "
   ]
  },
  {
   "cell_type": "markdown",
   "metadata": {},
   "source": [
    "思路二：动态规划 [^1]\n",
    "我们只要记录前i的最小值, 和最大值, 那么 dp[i] = max(nums[i] * pre_max, nums[i] * pre_min, nums[i]), \n",
    "这里0 不需要单独考虑, 因为当相乘不管最大值和最小值,都会置0"
   ]
  },
  {
   "cell_type": "code",
   "execution_count": null,
   "metadata": {},
   "outputs": [],
   "source": [
    "class Solution:\n",
    "    def maxProduct(self, nums: List[int]) -> int:\n",
    "        if not nums: return \n",
    "        res = nums[0]\n",
    "        pre_max = nums[0]\n",
    "        pre_min = nums[0]\n",
    "        for num in nums[1:]:\n",
    "            cur_max = max(pre_max * num, pre_min * num, num)\n",
    "            cur_min = min(pre_max * num, pre_min * num, num)\n",
    "            res = max(res, cur_max)\n",
    "            pre_max = cur_max\n",
    "            pre_min = cur_min\n",
    "        return res"
   ]
  }
 ],
 "metadata": {
  "kernelspec": {
   "display_name": "Python 3",
   "language": "python",
   "name": "python3"
  },
  "language_info": {
   "codemirror_mode": {
    "name": "ipython",
    "version": 3
   },
   "file_extension": ".py",
   "mimetype": "text/x-python",
   "name": "python",
   "nbconvert_exporter": "python",
   "pygments_lexer": "ipython3",
   "version": "3.8.3"
  }
 },
 "nbformat": 4,
 "nbformat_minor": 4
}
